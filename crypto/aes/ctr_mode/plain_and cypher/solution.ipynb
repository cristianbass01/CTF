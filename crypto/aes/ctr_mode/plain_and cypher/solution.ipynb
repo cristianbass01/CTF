{
 "cells": [
  {
   "cell_type": "code",
   "execution_count": 1,
   "metadata": {},
   "outputs": [],
   "source": [
    "from Crypto.Cipher import AES\n",
    "from Crypto.Util import Counter\n",
    "import os\n",
    "import time\n",
    "from datetime import datetime\n",
    "import random\n",
    "import hashlib\n",
    "\n",
    "KEY = os.urandom(16)\n",
    "\n",
    "def generate_timestamp():\n",
    "    timestamp = time.time()\n",
    "    timestamp_ms = round(timestamp,3)   \n",
    "    date = datetime.fromtimestamp(timestamp_ms)\n",
    "\n",
    "    timestamp_int = int(timestamp_ms * 1000)\n",
    "    ts = timestamp_int.to_bytes(16, byteorder='big') \n",
    "    return str(date), hashlib.md5(ts).digest()"
   ]
  },
  {
   "cell_type": "code",
   "execution_count": 2,
   "metadata": {},
   "outputs": [],
   "source": [
    "def retrieve_hash(text_date):\n",
    "  date = datetime.strptime(text_date, \"%Y-%m-%d %H:%M:%S.%f\")\n",
    "  timestamp = date.timestamp()\n",
    "  timestamp_ms = round(timestamp,3)\n",
    "  timestamp_int = int(timestamp_ms * 1000)\n",
    "  ts = timestamp_int.to_bytes(16, byteorder='big')\n",
    "  return hashlib.md5(ts).digest()"
   ]
  },
  {
   "cell_type": "code",
   "execution_count": 3,
   "metadata": {},
   "outputs": [],
   "source": [
    "with open('output.txt', 'r') as f:\n",
    "  lines = f.readlines()"
   ]
  },
  {
   "cell_type": "code",
   "execution_count": 4,
   "metadata": {},
   "outputs": [
    {
     "name": "stdout",
     "output_type": "stream",
     "text": [
      "Date: 2025-03-10 09:50:07.974000\n",
      "Cypher: ac0720038488a5f6f149cf0f3a41e31ffff996363fa6a0cf493c2a2998ad0bddfab0422efd4df201bf05ede07926ce3988015bb35a717504d03db4a0ac52d67c8f006b9e662f0db0a6644484d210eb33d3ce54d9565c10bb2fcc08d8db5e87d96d576418\n",
      "Date: 2025-03-10 09:50:10.975000\n",
      "Cypher: b571b8eb470f7c3b466618af91cb111184d73bfca56c3f1ddc44c5845f789f8584d7a6fe60d3328b386a0044b8e1164bb810f97398e8b98d280903220dc33452be73e90fefa9\n"
     ]
    }
   ],
   "source": [
    "text_date, text_time, text_cipher = lines[0].strip().split(' ')\n",
    "text_date = text_date + ' ' + text_time\n",
    "print(\"Date:\", text_date)\n",
    "print(\"Cypher:\", text_cipher)\n",
    "\n",
    "flag_date, flag_time, flag_cipher = lines[1].strip().split(' ')\n",
    "flag_date = flag_date + ' ' + flag_time\n",
    "print(\"Date:\", flag_date)\n",
    "print(\"Cypher:\", flag_cipher)"
   ]
  },
  {
   "cell_type": "code",
   "execution_count": 5,
   "metadata": {},
   "outputs": [
    {
     "name": "stdout",
     "output_type": "stream",
     "text": [
      "Text hash: b'\\xa5l\\xf4\\xcc5\\xa1K\\xf3&f\\xedl\\xe9\\x88\\x04\\x01'\n",
      "Flag hash: b'\\x84=P\\x1a\\xae)\\xd3)\\x82]\\x17\\xd0\\x12_\\xcdM'\n"
     ]
    }
   ],
   "source": [
    "text_hash = retrieve_hash(text_date)\n",
    "print(\"Text hash:\", text_hash)\n",
    "\n",
    "flag_hash = retrieve_hash(flag_date)\n",
    "print(\"Flag hash:\", flag_hash)"
   ]
  },
  {
   "cell_type": "code",
   "execution_count": 7,
   "metadata": {},
   "outputs": [],
   "source": [
    "test = b\"Capybara friends, mission accomplished! We've caused a blackout, let's meet at the bar to celebrate!\""
   ]
  },
  {
   "cell_type": "code",
   "execution_count": 8,
   "metadata": {},
   "outputs": [
    {
     "data": {
      "text/plain": [
       "[b'\\tk\\xd4\\xcf\\xb1)\\xee\\x05\\xd7/\"c\\xd3\\xc9\\xe7\\x1e',\n",
       " b'Z\\x95b\\xfa\\n\\x07\\xeb<oZ\\xc7Eq%\\x0f\\xdc',\n",
       " b'_\\xdc\\xb6\\xe2\\xc8\\xec\\xb9\\xf2\\x99c\\x00\\x8c\\x90\\xae\\xca8',\n",
       " b'-m\\xaf\\x7fo\\xd0>\\xf7\\xf6[Y\\xccE\\xda\\xd2}',\n",
       " b'*l\\x9fRS\\x8eFC\\x80\\x02\\xa9\\xe8;\\x98\\xef2',\n",
       " b'v\\xa2\\xa0\\x15c\\xfd[H\\t\\xaa\\xe5\\xb42\\xd6\\x83\\xd8',\n",
       " b'\\xc8;\\x90\\xd4']"
      ]
     },
     "execution_count": 8,
     "metadata": {},
     "output_type": "execute_result"
    }
   ],
   "source": [
    "text_cipher_hex = bytes.fromhex(text_cipher)\n",
    "text_cipher_blocks = [text_cipher_hex[i:i+16] for i in range(0, len(text_cipher_hex), 16)]\n",
    "\n",
    "text_cipher_xor_blocks = []\n",
    "for block in text_cipher_blocks:\n",
    "  block_with_xor = bytes(a ^ b for a, b in zip(block, text_hash))\n",
    "  text_cipher_xor_blocks.append(block_with_xor)\n",
    "\n",
    "text_cipher_xor_blocks"
   ]
  },
  {
   "cell_type": "code",
   "execution_count": 9,
   "metadata": {},
   "outputs": [
    {
     "data": {
      "text/plain": [
       "[b'1L\\xe8\\xf1\\xe9&\\xaf\\x12\\xc4;\\x0f\\x7f\\x83\\x94\\xdc\\\\',\n",
       " b\"\\x00\\xeak\\xe6\\x0bE\\xec4^\\x19\\xd2TM'R\\xc8\",\n",
       " b'\\x00\\xea\\xf6\\xe4\\xce\\xfa\\xe1\\xa2\\xba7\\x17\\x94\\xaa\\xbe\\xdb\\x06',\n",
       " b'<-\\xa9i6\\xc1j\\xa4\\xaaT\\x14\\xf2\\x1f\\x9c\\xf9\\x1f',\n",
       " b':N\\xb9\\x15A\\x80']"
      ]
     },
     "execution_count": 9,
     "metadata": {},
     "output_type": "execute_result"
    }
   ],
   "source": [
    "flag_cipher_hex = bytes.fromhex(flag_cipher)\n",
    "flag_cipher_blocks = [flag_cipher_hex[i:i+16] for i in range(0, len(flag_cipher_hex), 16)]\n",
    "\n",
    "flag_cipher_xor_blocks = []\n",
    "for block in flag_cipher_blocks:\n",
    "  block_with_xor = bytes(a ^ b for a, b in zip(block, flag_hash))\n",
    "  flag_cipher_xor_blocks.append(block_with_xor)\n",
    "\n",
    "flag_cipher_xor_blocks"
   ]
  },
  {
   "cell_type": "code",
   "execution_count": 11,
   "metadata": {},
   "outputs": [
    {
     "data": {
      "text/plain": [
       "[b'J\\n\\xa4\\xb6\\xd3H\\x9cd\\xf7IP\\n\\xb6\\xa7\\x83m',\n",
       " b'v\\xb5\\x0f\\x93yt\\x82S\\x01z\\xa6&\\x12Jb\\xac',\n",
       " b\"3\\xb5\\xc5\\x8a\\xad\\x88\\x98\\xd2\\xce\\x06'\\xfa\\xf5\\x8e\\xa9Y\",\n",
       " b'X\\x1e\\xca\\x1bO\\xb1\\x1e\\x95\\x9a::\\xa7*\\xaf\\xa6Q',\n",
       " b'\\n\\x00\\xfa&t\\xfdf.\\xe5g\\xdd\\xc8Z\\xec\\xcfF',\n",
       " b'\\x1e\\xc7\\x80w\\x02\\x8f{<f\\x8a\\x86\\xd1^\\xb3\\xe1\\xaa',\n",
       " b'\\xa9O\\xf5\\xf5']"
      ]
     },
     "execution_count": 11,
     "metadata": {},
     "output_type": "execute_result"
    }
   ],
   "source": [
    "# Pad the test message to be a multiple of 16 bytes\n",
    "test += b'\\x00' * (16 - len(test) % 16)\n",
    "\n",
    "# divide the test mesasge in blocks of 16 bytes\n",
    "test_blocks = [test[i:i+16] for i in range(0, len(test), 16)]\n",
    "\n",
    "E_K = []\n",
    "# For each block in test_blocks, xor it with the corresponding block in text_cipher_xor_blocks\n",
    "for i in range(len(test_blocks)):\n",
    "  E_K.append(bytes(a ^ b for a, b in zip(test_blocks[i], text_cipher_xor_blocks[i])))\n",
    "\n",
    "E_K"
   ]
  },
  {
   "cell_type": "code",
   "execution_count": 12,
   "metadata": {},
   "outputs": [
    {
     "data": {
      "text/plain": [
       "[b'{FLG:n3v3r_u53_1',\n",
       " b'v_dur1ng_ctr_m0d',\n",
       " b'3_3ncrypt10n_0r_',\n",
       " b'd3crypt10n.U53_N',\n",
       " b'0NC35}']"
      ]
     },
     "execution_count": 12,
     "metadata": {},
     "output_type": "execute_result"
    }
   ],
   "source": [
    "# Xor the E_K blocks with the flag_cipher_xor_blocks\n",
    "flag_blocks = []\n",
    "for i in range(len(flag_cipher_xor_blocks)):\n",
    "  flag_blocks.append(bytes(a ^ b for a, b in zip(E_K[i], flag_cipher_xor_blocks[i])))\n",
    "\n",
    "flag_blocks"
   ]
  },
  {
   "cell_type": "code",
   "execution_count": null,
   "metadata": {},
   "outputs": [
    {
     "name": "stdout",
     "output_type": "stream",
     "text": [
      "{FLG:n3v3r_u53_1v_dur1ng_ctr_m0d3_3ncrypt10n_0r_d3crypt10n.U53_N0NC35}\n"
     ]
    }
   ],
   "source": [
    "flag = b''.join(flag_blocks)\n",
    "print(flag.decode())\n"
   ]
  }
 ],
 "metadata": {
  "kernelspec": {
   "display_name": "crypto",
   "language": "python",
   "name": "python3"
  },
  "language_info": {
   "codemirror_mode": {
    "name": "ipython",
    "version": 3
   },
   "file_extension": ".py",
   "mimetype": "text/x-python",
   "name": "python",
   "nbconvert_exporter": "python",
   "pygments_lexer": "ipython3",
   "version": "3.12.7"
  }
 },
 "nbformat": 4,
 "nbformat_minor": 2
}
