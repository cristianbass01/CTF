{
 "cells": [
  {
   "cell_type": "code",
   "execution_count": 1,
   "id": "35b32434",
   "metadata": {},
   "outputs": [
    {
     "name": "stdout",
     "output_type": "stream",
     "text": [
      "Opening in existing browser session.\n"
     ]
    }
   ],
   "source": [
    "from PIL import Image\n",
    "import numpy as np\n",
    "\n",
    "# Load the images\n",
    "img1 = Image.open('flag.enc.png').convert('RGB')\n",
    "img2 = Image.open('stars.enc.png').convert('RGB')\n",
    "\n",
    "# Convert images to numpy arrays\n",
    "arr1 = np.array(img1)\n",
    "arr2 = np.array(img2)\n",
    "\n",
    "# Ensure images are the same size\n",
    "if arr1.shape != arr2.shape:\n",
    "  raise ValueError(\"Images must have the same dimensions to XOR.\")\n",
    "\n",
    "# XOR the images\n",
    "xor_arr = np.bitwise_xor(arr1, arr2)\n",
    "\n",
    "# Convert back to image and save/show\n",
    "xor_img = Image.fromarray(xor_arr)\n",
    "xor_img.save('xor_result.png')\n",
    "xor_img.show()"
   ]
  }
 ],
 "metadata": {
  "kernelspec": {
   "display_name": "base",
   "language": "python",
   "name": "python3"
  },
  "language_info": {
   "codemirror_mode": {
    "name": "ipython",
    "version": 3
   },
   "file_extension": ".py",
   "mimetype": "text/x-python",
   "name": "python",
   "nbconvert_exporter": "python",
   "pygments_lexer": "ipython3",
   "version": "3.12.2"
  }
 },
 "nbformat": 4,
 "nbformat_minor": 5
}
