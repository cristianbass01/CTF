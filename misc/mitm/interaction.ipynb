{
 "cells": [
  {
   "cell_type": "code",
   "execution_count": 83,
   "id": "339e89fb",
   "metadata": {},
   "outputs": [],
   "source": [
    "import socket\n",
    "import re\n",
    "import base64\n",
    "from Crypto.Cipher import PKCS1_OAEP\n",
    "from Crypto.Hash import SHA256\n",
    "from Crypto.Cipher import ChaCha20\n",
    "from Crypto.PublicKey import RSA\n",
    "\n",
    "LABEL1 = b'\\x01'\n",
    "LABEL2 = b'\\x02'\n",
    "LABEL3 = b'\\x03'\n",
    "\n",
    "NONCE_LEN = 128 // 8\n",
    "\n",
    "def decrypt_flag(enc_flag_b64, nonceA, nonceB):\n",
    "  enc_flag = base64.b64decode(enc_flag_b64)\n",
    "  nonce = enc_flag[:8]\n",
    "  ciphertext = enc_flag[8:]\n",
    "  cipher = ChaCha20.new(key=nonceA + nonceB, nonce=nonce)\n",
    "  flag = cipher.decrypt(ciphertext)\n",
    "  return flag.decode('ascii')\n",
    "\n",
    "def send_message(socket, message):\n",
    "    socket.sendall(message.encode())\n",
    "    response = b''\n",
    "    while True:\n",
    "        chunk = socket.recv(4096)\n",
    "        if not chunk:\n",
    "            break\n",
    "        response += chunk\n",
    "        if len(chunk) < 4096:\n",
    "            break\n",
    "    response = response.decode()\n",
    "    return response\n",
    "\n",
    "def receive_message(socket):\n",
    "    chunks = []\n",
    "    while True:\n",
    "      chunk = socket.recv(4096)\n",
    "      if not chunk:\n",
    "        break\n",
    "      chunks.append(chunk)\n",
    "      if len(chunk) < 4096:\n",
    "        break\n",
    "    response = b''.join(chunks).decode()\n",
    "    return response\n",
    "\n",
    "def get_pubkey(message):\n",
    "  match = re.search(r'\\(e, n\\) = \\((\\d+), (\\d+)\\)', message)\n",
    "  if match:\n",
    "    e = int(match.group(1))\n",
    "    n = int(match.group(2))\n",
    "    return e, n\n",
    "  else:\n",
    "    return None, None\n",
    "  \n",
    "\n",
    "def get_message(message):\n",
    "  match = re.search(r'Here is message \\d+:\\s*([^\\n]+)', message)\n",
    "  if match:\n",
    "    return match.group(1)\n",
    "  else:\n",
    "    return None\n",
    "  \n",
    "def get_flag(message):\n",
    "  match = re.search(r'Here is the flag:\\s*([^\\n]+)', message)\n",
    "  if match:\n",
    "    return match.group(1)\n",
    "  else:\n",
    "    return None"
   ]
  },
  {
   "cell_type": "code",
   "execution_count": 84,
   "id": "178cb70c",
   "metadata": {},
   "outputs": [
    {
     "name": "stdout",
     "output_type": "stream",
     "text": [
      "New private key d: 59707877618404885915029551234281291624478041261440877337662080902156037809936675394461062452211363300357512837914509526956323692602867563574264427161527340884124896960053484844850163225639361282937163182840992640103132711851305541855275120049287657242189734937968710758643834874085637187955816575185089581824811779736590954787070477864766563675271320807424582414742422457530672867487364772306492556851248023174939716330684310344138205325839430248108404091024136533751509360754897164055260071915936274480042072395329767452497517446313313273654852288623226484183206904758741158954396195739172665757948692876024749040146417938062232522894850210624660900214636619395281731147400734136804880334978914235043317787185750033533496629914335808496416271702906989292637200037567941053655080119616571479717627279909539145463362891212722934915923000892122382656809821097494732568662482030796803567741415286085213505277257996415159091389\n",
      "New public key (e, n): (65537, 3328860208828074018046186047844400688382320195789919845238927942224245214759523517930067758341621536891135958195153731066045585573895475554203800734057862475136446934981731379223262566838559609017314218216801475673703963025605283961351906033747482086500543308064360184593144199185836158559813144098600779178266856323774531181522958662546326060047857551472722124810696844405944455735022905217057084388226492296738429765345859333920702307477276682407724780019947971333065727111182477954932106130118790393608780357046956504133156615539620103144630446129990749167020056632205860516761107467517933692544487777503778782904035013395872270931566373828133520425819175804548144657865972673571197357678589887824958570649378917352779072853045484614871673989944893465952315434889699670231073587881341730730774650196639701155539589169554931156854734304997754610271194100442364870574827187415094610918407237276638713119657210550925486456579)\n",
      "Length of n: 925\n",
      "Length of e: 5\n"
     ]
    }
   ],
   "source": [
    "\n",
    "# Generate a new RSA key pair\n",
    "key = RSA.generate(2048 + 1024)\n",
    "eve_sk = key\n",
    "eve_pk = key.publickey()\n",
    "\n",
    "# Extract (e, n) for the public key\n",
    "e_eve = eve_pk.e\n",
    "n_eve = eve_pk.n\n",
    "\n",
    "print(\"New private key d:\", eve_sk.d)\n",
    "print(\"New public key (e, n):\", (e_eve, n_eve))\n",
    "print(\"Length of n:\", len(str(n_eve)))\n",
    "print(\"Length of e:\", len(str(e_eve)))"
   ]
  },
  {
   "cell_type": "code",
   "execution_count": 85,
   "id": "bca6348c",
   "metadata": {},
   "outputs": [
    {
     "name": "stdout",
     "output_type": "stream",
     "text": [
      "Alice's message: Hello, I am Alice, here is my public key: (e, n) = (65537, 5161656885512641576966780170279536912008821541950338466056445333036300482841371742645136927022830326981184694735015143038095562864242079570556780342577865068888727028333902972528853391383833059243345765200652908664746507787948404174815006070563641944105429357566697048902594956466813503756222716008215804255089797285833379460695970884354488224775934849899268440510325637413862613746793205385279172662439139417942032538724945771882978684457271977750837564081531209619630099811846135017537555299152325514115472592761931163459795640637657301282352909246663491870093262308055673152946000383127138721395788948795364428538021135222475947607078857784843172130531806190733895233286538700919876583610187198677176758506381202486870472058243787492066859730940402278509548852888473601013860888593257487243074894962349098198338416449432070999463866935471400822801746258813089799232918229970323517502489056301037713341585546616491034160737)\n",
      "Please choose either option:\n",
      "\t1) Import public key\n",
      "\t2) Start session\n",
      "\t3) exit\n",
      "\n",
      "\n",
      "Choice: \n",
      "Alice's public key (e, n): (65537, 5161656885512641576966780170279536912008821541950338466056445333036300482841371742645136927022830326981184694735015143038095562864242079570556780342577865068888727028333902972528853391383833059243345765200652908664746507787948404174815006070563641944105429357566697048902594956466813503756222716008215804255089797285833379460695970884354488224775934849899268440510325637413862613746793205385279172662439139417942032538724945771882978684457271977750837564081531209619630099811846135017537555299152325514115472592761931163459795640637657301282352909246663491870093262308055673152946000383127138721395788948795364428538021135222475947607078857784843172130531806190733895233286538700919876583610187198677176758506381202486870472058243787492066859730940402278509548852888473601013860888593257487243074894962349098198338416449432070999463866935471400822801746258813089799232918229970323517502489056301037713341585546616491034160737)\n",
      "Length of n: 925\n",
      "Length of e: 5\n"
     ]
    }
   ],
   "source": [
    "alice_socket = socket.socket(socket.AF_INET, socket.SOCK_STREAM)\n",
    "alice_socket.connect((\"alice-chall.trojanc.tf\", 5000))\n",
    "\n",
    "response_alice = receive_message(alice_socket)\n",
    "print(\"Alice's message:\", response_alice)\n",
    "e_alice, n_alice = get_pubkey(response_alice)\n",
    "print(\"Alice's public key (e, n):\", (e_alice, n_alice))\n",
    "print(\"Length of n:\", len(str(n_alice)))\n",
    "print(\"Length of e:\", len(str(e_alice)))"
   ]
  },
  {
   "cell_type": "code",
   "execution_count": 86,
   "id": "fead3340",
   "metadata": {},
   "outputs": [
    {
     "name": "stdout",
     "output_type": "stream",
     "text": [
      "Bob's message: Hello, I am Bob, here is my public key: (e, n) = (65537, 3368571081442952949585615985860628486223488607047576108935583296034904626981874065519113682057883471590363919785148743976643752364751186817413918655233957819800641448578978675380622570320570754477625583387542152525987312312454408884491865687216606274055920498296433909875239500500716482141733133389911514120220616083269385553286932156135865486813351454447581866279936043528928199584300001255197725370838900154424529061536576297585539634000508282347883560410823597197996822765028001681156652599736004347511516694476005536628728265621917143707466363647223716111584522613067543633400672794221600598543911647396320247372942051672684249249789467542019907568976467007594967136817023346356029767229792121947286576874741931473992909092339049489544615262689183331089235604474072800912295172930928290508568698428328466898814512513541650087329798505259352309392454677737860101235744948015068871874814113100721526585222345252980847127871)\n",
      "Please choose either option:\n",
      "\t1) Import public key\n",
      "\t2) Start session\n",
      "\t3) exit\n",
      "\n",
      "\n",
      "Choice: \n",
      "Bob's public key (e, n): (65537, 3368571081442952949585615985860628486223488607047576108935583296034904626981874065519113682057883471590363919785148743976643752364751186817413918655233957819800641448578978675380622570320570754477625583387542152525987312312454408884491865687216606274055920498296433909875239500500716482141733133389911514120220616083269385553286932156135865486813351454447581866279936043528928199584300001255197725370838900154424529061536576297585539634000508282347883560410823597197996822765028001681156652599736004347511516694476005536628728265621917143707466363647223716111584522613067543633400672794221600598543911647396320247372942051672684249249789467542019907568976467007594967136817023346356029767229792121947286576874741931473992909092339049489544615262689183331089235604474072800912295172930928290508568698428328466898814512513541650087329798505259352309392454677737860101235744948015068871874814113100721526585222345252980847127871)\n"
     ]
    }
   ],
   "source": [
    "bob_socket = socket.socket(socket.AF_INET, socket.SOCK_STREAM)\n",
    "bob_socket.connect((\"bob-chall.trojanc.tf\", 5000))\n",
    "\n",
    "response_bob = receive_message(bob_socket)\n",
    "print(\"Bob's message:\", response_bob)\n",
    "e_bob, n_bob = get_pubkey(response_bob)\n",
    "print(\"Bob's public key (e, n):\", (e_bob, n_bob))"
   ]
  },
  {
   "cell_type": "code",
   "execution_count": 87,
   "id": "b1a5417e",
   "metadata": {},
   "outputs": [
    {
     "name": "stdout",
     "output_type": "stream",
     "text": [
      "Sending message: 1\n",
      "Please input your name: \n",
      "Sending message: Eve\n",
      "Please input your public key exponent: \n",
      "Sending message: 65537\n",
      "Please input your public key modulus n: \n",
      "Sending message: 3328860208828074018046186047844400688382320195789919845238927942224245214759523517930067758341621536891135958195153731066045585573895475554203800734057862475136446934981731379223262566838559609017314218216801475673703963025605283961351906033747482086500543308064360184593144199185836158559813144098600779178266856323774531181522958662546326060047857551472722124810696844405944455735022905217057084388226492296738429765345859333920702307477276682407724780019947971333065727111182477954932106130118790393608780357046956504133156615539620103144630446129990749167020056632205860516761107467517933692544487777503778782904035013395872270931566373828133520425819175804548144657865972673571197357678589887824958570649378917352779072853045484614871673989944893465952315434889699670231073587881341730730774650196639701155539589169554931156854734304997754610271194100442364870574827187415094610918407237276638713119657210550925486456579\n",
      "Please choose either option:\n",
      "\t1) Import public key\n",
      "\t2) Start session\n",
      "\t3) exit\n",
      "\n",
      "\n",
      "Choice: \n"
     ]
    }
   ],
   "source": [
    "messages = [\n",
    "  \"1\\n\",\n",
    "  \"Eve\\n\",\n",
    "  f\"{e_eve}\\n\",\n",
    "  f\"{n_eve}\\n\",\n",
    "]\n",
    "\n",
    "for message in messages:\n",
    "  print(\"Sending message:\", message.strip())\n",
    "  print(send_message(alice_socket, message))"
   ]
  },
  {
   "cell_type": "code",
   "execution_count": 88,
   "id": "9fba3a39",
   "metadata": {},
   "outputs": [
    {
     "name": "stdout",
     "output_type": "stream",
     "text": [
      "Alice's message (base64): QMy+C20jvA1dwblUGv3roXcRIgDNu9sTUMSpb74cH08CeVuB0zRNsadMBX0b04I+xC15iHLvoh+2MZw3qMMwAhpNxZoNPqSaH5ostAJaYMa61SJgMdGz+vMtxiyaH0UCKRTEsf264Q5YLj5Nct2X2fL2asEy3LS8WciFdoDvWGwXpE8fUov/rEyb6Gn9NiFqCS3MCLjuCU/6q4IUpeqg2+Woxzb2lnVkTkGt549wg4aknRt8XXe74sGCY+Mdl5COXfJV2IasKGUkkIwDdFllLfEtFXFgx7/hcK/qqcfv4wLwxuyw/nzxN/jL714K0kxAEwRHJ6Fq0eXCgcHo4Zm46d/uNVcS3WGrdNgcDFxntwp6ArYQhQlbzlZBz2tJd5kW3C77TSD5/cI5ZRJrFZSfL8HSeH1OFX7cRPti85hgzRAnulIMI0Lw91sfla2ofyehNzRkxVoOCzqWLM8WwdhbNG7F10v0qqyz9stErEwdfWbcBTwE0deApqwgGU/ADxeM\n",
      "Nonce from Alice: b'\\x10\\x9eK}z\\xae\\xae;_|\\xa7-\\xefq\\x98}'\n",
      "Bob's message: DTnThMnGyiXr1fayJrUNrzKpAD9yQtDwh7Ulwm5V6lZPNeUxqT/kpgT9nVNS9CJYThZWSzBP5x+2QEO+UegW+zs+0DHG7/EPa1nCyhWfuUcG4EEWHAyd0pmUpa25zhBmvNqDP976EO7nNyUQEiRlua9qnPEiEWhken7IKjlLQVzyn9Gr8qTK7bWDDzZ+p2m/VSKkETcwldqcH2XQ+gx3rabWf6m42oJQVDEoHw4DAXs6KUYSzDayaD7AkuSa/eT5hdjFeyiAq9N1IKAOWiymeVrORVh0x6PuDHvBMK3REaIzT6ES7VgpABto5eZBq3J7QVxWv2ARgpusxYhbgVqMcnthLwi7VkJ3ENSvk59crrso+wFK2J5Oqoa+Z0gzW358YWa7H1fuW2Gueh0+ELPHLZ7FmQNCH5xw6zmqr5LYJ6GbDgrm5MSDSjqw2WmGwpWpTpJQ7YqWBj7Ro7R2yMVmfxCpqW83ah0C0ZtTyJrskP91YSVMr5QcThWAjgrXdyl5\n",
      "Alice's message: RlRjoy8hrrdW/P7Ryf++sDp001K15T8VXq8gv0PTiHTuWMRWJwr89ZsVAJshibAztOn+z7ur2uLWC6o8jf69cmatSjTaHxfk+CJ9WQOjrd2oDnGk8DXmx3RUqPY1LJP4la/xY3Ktlmg52mMLTDtBFvsm77s2BDaKU2fmL/p2wSZaHIiPTOtf4pddrMY/PXoD70VUoOv8l5a+kpZW854lihC0X4FS3H3+mROubvH2ReN8e9V1/0yhCCjz9HhdDtbXztldiBVTght5XgKhGRRyVr9/S+TuNHRVkHW+d7sg9P2pM/KgyiO/0jaQARJ5T8xpSsXUoDok6Nsyys0nHdGTNJtRvbuXY25ynj7ORogoqrg2996UiCEdjDW8VF+oknXt2Txphy8RFkJ9inkWWCXxcXpgH1b8JE79RDfVYlqawQBVqLWTSfh0E6aO7cgrTrfND1HsKuRuPD7Q1vIxEBHNJkTZ/9UoJsjzgMAbpN05lm2wcZ6CiwQg3U8wfvl+i7zA\n",
      "Nonce from Bob: b't\\xe6\\xf9\\xbd\\xa3\\x92S\"\\xda\\x0e\\x0b\\x0e]\\xa7\\xae\\xd9'\n",
      "Bob's message: \n",
      "Well done, Alice. Here is the flag: n+L9/7out5EBLOA9MXswwbjMU/CV1eAaHtadJZspf3tJSMkOi5MlXKT3tJv+j0OSaaJ+C9dHM5OIuOqsoGcacScvFnS5gBh0WHOofIInTvLPPbCdcAo4\n",
      "\n",
      "\n",
      "Please choose either option:\n",
      "\t1) Import public key\n",
      "\t2) Start session\n",
      "\t3) exit\n",
      "\n",
      "\n",
      "Choice: \n",
      "Flag (base64): n+L9/7out5EBLOA9MXswwbjMU/CV1eAaHtadJZspf3tJSMkOi5MlXKT3tJv+j0OSaaJ+C9dHM5OIuOqsoGcacScvFnS5gBh0WHOofIInTvLPPbCdcAo4\n"
     ]
    }
   ],
   "source": [
    "send_message(alice_socket, \"2\\n\")\n",
    "send_message(bob_socket, \"2\\n\")\n",
    "\n",
    "mess_1 = get_message(send_message(alice_socket, \"Eve\\n\"))\n",
    "print(\"Alice's message (base64):\", mess_1)\n",
    "\n",
    "# Decode the base64-encoded ciphertext\n",
    "cipher1 = PKCS1_OAEP.new(eve_sk, hashAlgo=SHA256, label=LABEL1)\n",
    "decrypted_eve_1 = cipher1.decrypt(base64.decodebytes(bytes(mess_1, 'ascii')))\n",
    "nonce_alice = decrypted_eve_1[:NONCE_LEN]\n",
    "print(\"Nonce from Alice:\", nonce_alice)\n",
    "\n",
    "cipher_bob_1 = PKCS1_OAEP.new(RSA.construct((n_bob, e_bob)), hashAlgo=SHA256, label=LABEL1)\n",
    "encrypted_alice_1 = cipher_bob_1.encrypt(nonce_alice + bytes(\"Alice\", 'ascii'))\n",
    "\n",
    "mess_2 = get_message(send_message(bob_socket, base64.b64encode(encrypted_alice_1).decode() + \"\\n\"))\n",
    "print(\"Bob's message:\", mess_2)\n",
    "\n",
    "mess_3 = get_message(send_message(alice_socket, mess_2 + \"\\n\"))\n",
    "print(\"Alice's message:\", mess_3)\n",
    "\n",
    "# Decode the base64-encoded ciphertext\n",
    "cipher3 = PKCS1_OAEP.new(eve_sk, hashAlgo=SHA256, label=LABEL3)\n",
    "decrypted_eve_3 = cipher3.decrypt(base64.decodebytes(bytes(mess_3, 'ascii')))\n",
    "nonce_bob = decrypted_eve_3[:NONCE_LEN]\n",
    "print(\"Nonce from Bob:\", nonce_bob)\n",
    "\n",
    "cipher_bob_3 = PKCS1_OAEP.new(RSA.construct((n_bob, e_bob)), hashAlgo=SHA256, label=LABEL3)\n",
    "encrypted_alice_3 = cipher_bob_3.encrypt(nonce_bob)\n",
    "\n",
    "mess_4 = send_message(bob_socket, base64.b64encode(encrypted_alice_3).decode() + \"\\n\")\n",
    "print(\"Bob's message:\", mess_4)\n",
    "flag = get_flag(mess_4)\n",
    "print(\"Flag (base64):\", flag)"
   ]
  },
  {
   "cell_type": "code",
   "execution_count": 89,
   "id": "bef05b70",
   "metadata": {},
   "outputs": [
    {
     "data": {
      "text/plain": [
       "'Trojan{Sec_pr0t0c0ls_are_3_line_pr0grams_that_pe0ple_still_m@n@ge_to_get_wr0ng}'"
      ]
     },
     "execution_count": 89,
     "metadata": {},
     "output_type": "execute_result"
    }
   ],
   "source": [
    "decrypt_flag(flag, nonce_alice, nonce_bob)"
   ]
  }
 ],
 "metadata": {
  "kernelspec": {
   "display_name": "crypto",
   "language": "python",
   "name": "python3"
  },
  "language_info": {
   "codemirror_mode": {
    "name": "ipython",
    "version": 3
   },
   "file_extension": ".py",
   "mimetype": "text/x-python",
   "name": "python",
   "nbconvert_exporter": "python",
   "pygments_lexer": "ipython3",
   "version": "3.12.9"
  }
 },
 "nbformat": 4,
 "nbformat_minor": 5
}
